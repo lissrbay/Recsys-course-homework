{
 "cells": [
  {
   "cell_type": "code",
   "execution_count": 1,
   "metadata": {},
   "outputs": [],
   "source": [
    "import numpy as np\n",
    "import pandas as pd\n",
    "import time\n",
    "\n",
    "from functools import partial\n",
    "from scipy.stats import randint, uniform\n",
    "from sim_lib import simulation\n",
    "\n",
    "pd.options.mode.chained_assignment = None\n"
   ]
  },
  {
   "cell_type": "code",
   "execution_count": 2,
   "metadata": {},
   "outputs": [],
   "source": [
    "def eps_greedy(history: pd.DataFrame, eps: float):\n",
    "    if uniform.rvs() < eps:\n",
    "        n = history.shape[0]\n",
    "        return history.index[randint.rvs(0, n)]\n",
    "\n",
    "    ctr = history['clicks'] / (history['impressions'] + 10)\n",
    "    n = np.argmax(ctr)\n",
    "    return history.index[n]\n",
    "\n",
    "policy = partial(eps_greedy, eps=0.08)"
   ]
  },
  {
   "cell_type": "code",
   "execution_count": 3,
   "metadata": {},
   "outputs": [
    {
     "name": "stdout",
     "output_type": "stream",
     "text": [
      "1 impressions have been simulated\n",
      "10001 impressions have been simulated\n",
      "20001 impressions have been simulated\n",
      "30001 impressions have been simulated\n",
      "40001 impressions have been simulated\n",
      "50001 impressions have been simulated\n",
      "60001 impressions have been simulated\n",
      "70001 impressions have been simulated\n",
      "80001 impressions have been simulated\n",
      "90001 impressions have been simulated\n",
      "100001 impressions have been simulated\n",
      "110001 impressions have been simulated\n",
      "120001 impressions have been simulated\n",
      "130001 impressions have been simulated\n",
      "140001 impressions have been simulated\n",
      "150001 impressions have been simulated\n",
      "160001 impressions have been simulated\n",
      "170001 impressions have been simulated\n",
      "180001 impressions have been simulated\n",
      "190001 impressions have been simulated\n"
     ]
    },
    {
     "data": {
      "text/plain": [
       "436.2190899848938"
      ]
     },
     "execution_count": 3,
     "metadata": {},
     "output_type": "execute_result"
    }
   ],
   "source": [
    "# seed for homework\n",
    "np.random.seed(seed=384758917)\n",
    "\n",
    "start = time.time()\n",
    "output, regret_history_greedy = simulation(policy, n=200000)\n",
    "end = time.time()\n",
    "end - start"
   ]
  },
  {
   "cell_type": "code",
   "execution_count": 4,
   "metadata": {},
   "outputs": [
    {
     "data": {
      "text/plain": [
       "(2792.237649427154, 0.01396118824713577, 174)"
      ]
     },
     "execution_count": 4,
     "metadata": {},
     "output_type": "execute_result"
    }
   ],
   "source": [
    "# baseline regret\n",
    "output['regret'], output['regret']/output['rounds'],  output['total_banners']"
   ]
  },
  {
   "cell_type": "markdown",
   "metadata": {},
   "source": [
    "Я решила выбрать Thompson Sampling потому что он довольно понятно теоретически обоснован и в случае бернуллиевского бандита (а у нас он логичен в силу того, что мы рассматриваем события 0/1 клика по баннеру) обновления параметров довольно просты"
   ]
  },
  {
   "cell_type": "code",
   "execution_count": 5,
   "metadata": {},
   "outputs": [],
   "source": [
    "from collections import defaultdict\n",
    "\n",
    "class ThompsonSampling:\n",
    "    # в качестве параметров по умолчанию единицы\n",
    "    # потому что это соответствует равномерному распределению, а баннеры изначально все равны\n",
    "    def __init__(self, a=1, b=1):\n",
    "        self.a_init = a\n",
    "        self.b_init = b\n",
    "        self.a_params = defaultdict(lambda: self.a_init)\n",
    "        self.b_params = defaultdict(lambda: self.b_init)\n",
    "        self.prev_ind = -1\n",
    "        \n",
    "    def thompson_sampling(self, history: pd.DataFrame):\n",
    "        betas = []\n",
    "        banner_ids = history.index.values\n",
    "        \n",
    "        # обновляем баннер, который выбрали на предыдущем шаге\n",
    "        # можно было бы и единицами, но раз у нас сагрегированные значения в истории, то и так подойдет\n",
    "        if self.prev_ind in banner_ids:\n",
    "            self.a_params[self.prev_ind] = history.loc[self.prev_ind]['clicks'] + self.a_init\n",
    "            self.b_params[self.prev_ind] = history.loc[self.prev_ind]['impressions'] - history.loc[self.prev_ind]['clicks'] + self.b_init\n",
    "        \n",
    "        for banner_id in banner_ids:\n",
    "            a = self.a_params[banner_id]\n",
    "            b = self.b_params[banner_id]\n",
    "            \n",
    "            # сэмплим по одному значению на баннер\n",
    "            betas.append(np.random.beta(a, b, size=1))\n",
    "\n",
    "        max_reward_ind = np.argmax(betas)\n",
    "        \n",
    "        # запоминаем баннер, ведь данные о reward придут только на слежующем шаге\n",
    "        self.prev_ind = banner_ids[max_reward_ind]\n",
    "        \n",
    "        return self.prev_ind\n",
    "    \n",
    "ts = ThompsonSampling()\n",
    "policy = ts.thompson_sampling"
   ]
  },
  {
   "cell_type": "code",
   "execution_count": 6,
   "metadata": {},
   "outputs": [
    {
     "name": "stdout",
     "output_type": "stream",
     "text": [
      "1 impressions have been simulated\n",
      "10001 impressions have been simulated\n",
      "20001 impressions have been simulated\n",
      "30001 impressions have been simulated\n",
      "40001 impressions have been simulated\n",
      "50001 impressions have been simulated\n",
      "60001 impressions have been simulated\n",
      "70001 impressions have been simulated\n",
      "80001 impressions have been simulated\n",
      "90001 impressions have been simulated\n",
      "100001 impressions have been simulated\n",
      "110001 impressions have been simulated\n",
      "120001 impressions have been simulated\n",
      "130001 impressions have been simulated\n",
      "140001 impressions have been simulated\n",
      "150001 impressions have been simulated\n",
      "160001 impressions have been simulated\n",
      "170001 impressions have been simulated\n",
      "180001 impressions have been simulated\n",
      "190001 impressions have been simulated\n"
     ]
    },
    {
     "data": {
      "text/plain": [
       "380.49015712738037"
      ]
     },
     "execution_count": 6,
     "metadata": {},
     "output_type": "execute_result"
    }
   ],
   "source": [
    "# seed for homework\n",
    "np.random.seed(seed=384758917)\n",
    "\n",
    "start = time.time()\n",
    "output, regret_history_thompson = simulation(policy, n=200000)\n",
    "end = time.time()\n",
    "end - start"
   ]
  },
  {
   "cell_type": "markdown",
   "metadata": {},
   "source": [
    "Кажется работает даже быстрее e-greedy, но нужно больше запусков чтобы убедится."
   ]
  },
  {
   "cell_type": "code",
   "execution_count": 7,
   "metadata": {},
   "outputs": [
    {
     "data": {
      "text/plain": [
       "(1471.230717361168, 0.00735615358680584, 179)"
      ]
     },
     "execution_count": 7,
     "metadata": {},
     "output_type": "execute_result"
    }
   ],
   "source": [
    "# thomson regret\n",
    "\n",
    "output['regret'], output['regret']/output['rounds'],  output['total_banners']"
   ]
  },
  {
   "cell_type": "markdown",
   "metadata": {},
   "source": [
    "Получилось гораздо меньше, чем когда мы использовали жадную стратегию\n",
    "\n",
    "Посмотрим, получилось ли у нас приблится к логарифмической кривой"
   ]
  },
  {
   "cell_type": "code",
   "execution_count": 11,
   "metadata": {},
   "outputs": [
    {
     "data": {
      "image/png": "[encoded data removed]",
      "text/plain": [
       "<Figure size 432x288 with 1 Axes>"
      ]
     },
     "metadata": {
      "needs_background": "light"
     },
     "output_type": "display_data"
    }
   ],
   "source": [
    "import matplotlib.pyplot as plt\n",
    "\n",
    "plt.plot(range(200000), regret_history_thompson, label = 'Thomson sampling')\n",
    "plt.plot(range(200000), regret_history_greedy, label = 'E-greedy')\n",
    "\n",
    "plt.xlabel('Step')\n",
    "plt.ylabel('Regret')\n",
    "plt.title(\"Regret of time\")\n",
    "plt.legend()\n",
    "plt.show()"
   ]
  },
  {
   "cell_type": "markdown",
   "metadata": {},
   "source": [
    "График regret для TS проходит ниже графика e-greedy!\n",
    "\n",
    "Но на логарифмическую кривую не очень то похоже."
   ]
  },
  {
   "cell_type": "code",
   "execution_count": 15,
   "metadata": {},
   "outputs": [
    {
     "data": {
      "text/html": [
       "<div>\n",
       "<style scoped>\n",
       "    .dataframe tbody tr th:only-of-type {\n",
       "        vertical-align: middle;\n",
       "    }\n",
       "\n",
       "    .dataframe tbody tr th {\n",
       "        vertical-align: top;\n",
       "    }\n",
       "\n",
       "    .dataframe thead th {\n",
       "        text-align: right;\n",
       "    }\n",
       "</style>\n",
       "<table border=\"1\" class=\"dataframe\">\n",
       "  <thead>\n",
       "    <tr style=\"text-align: right;\">\n",
       "      <th></th>\n",
       "      <th>impressions</th>\n",
       "      <th>clicks</th>\n",
       "      <th>lifetime</th>\n",
       "      <th>p</th>\n",
       "    </tr>\n",
       "  </thead>\n",
       "  <tbody>\n",
       "    <tr>\n",
       "      <th>154</th>\n",
       "      <td>156.0</td>\n",
       "      <td>0.0</td>\n",
       "      <td>16595.715595</td>\n",
       "      <td>0.000442</td>\n",
       "    </tr>\n",
       "    <tr>\n",
       "      <th>169</th>\n",
       "      <td>3736.0</td>\n",
       "      <td>144.0</td>\n",
       "      <td>11415.767481</td>\n",
       "      <td>0.039232</td>\n",
       "    </tr>\n",
       "    <tr>\n",
       "      <th>175</th>\n",
       "      <td>4496.0</td>\n",
       "      <td>596.0</td>\n",
       "      <td>11381.152627</td>\n",
       "      <td>0.137817</td>\n",
       "    </tr>\n",
       "    <tr>\n",
       "      <th>178</th>\n",
       "      <td>42.0</td>\n",
       "      <td>1.0</td>\n",
       "      <td>4959.290645</td>\n",
       "      <td>0.030834</td>\n",
       "    </tr>\n",
       "  </tbody>\n",
       "</table>\n",
       "</div>"
      ],
      "text/plain": [
       "     impressions  clicks      lifetime         p\n",
       "154        156.0     0.0  16595.715595  0.000442\n",
       "169       3736.0   144.0  11415.767481  0.039232\n",
       "175       4496.0   596.0  11381.152627  0.137817\n",
       "178         42.0     1.0   4959.290645  0.030834"
      ]
     },
     "execution_count": 15,
     "metadata": {},
     "output_type": "execute_result"
    }
   ],
   "source": [
    "output['history']"
   ]
  },
  {
   "cell_type": "code",
   "execution_count": null,
   "metadata": {},
   "outputs": [],
   "source": []
  }
 ],
 "metadata": {
  "kernelspec": {
   "display_name": "Python 3",
   "language": "python",
   "name": "python3"
  },
  "language_info": {
   "codemirror_mode": {
    "name": "ipython",
    "version": 3
   },
   "file_extension": ".py",
   "mimetype": "text/x-python",
   "name": "python",
   "nbconvert_exporter": "python",
   "pygments_lexer": "ipython3",
   "version": "3.8.5"
  }
 },
 "nbformat": 4,
 "nbformat_minor": 4
}
