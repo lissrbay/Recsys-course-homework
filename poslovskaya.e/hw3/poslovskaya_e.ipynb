{
 "cells": [
  {
   "cell_type": "code",
   "execution_count": 1,
   "metadata": {},
   "outputs": [
    {
     "data": {
      "text/html": [
       "<div>\n",
       "<style scoped>\n",
       "    .dataframe tbody tr th:only-of-type {\n",
       "        vertical-align: middle;\n",
       "    }\n",
       "\n",
       "    .dataframe tbody tr th {\n",
       "        vertical-align: top;\n",
       "    }\n",
       "\n",
       "    .dataframe thead th {\n",
       "        text-align: right;\n",
       "    }\n",
       "</style>\n",
       "<table border=\"1\" class=\"dataframe\">\n",
       "  <thead>\n",
       "    <tr style=\"text-align: right;\">\n",
       "      <th></th>\n",
       "      <th>date_time</th>\n",
       "      <th>zone_id</th>\n",
       "      <th>banner_id</th>\n",
       "      <th>oaid_hash</th>\n",
       "      <th>campaign_clicks</th>\n",
       "      <th>os_id</th>\n",
       "      <th>country_id</th>\n",
       "      <th>banner_id0</th>\n",
       "      <th>rate0</th>\n",
       "      <th>g0</th>\n",
       "      <th>coeff_sum0</th>\n",
       "      <th>banner_id1</th>\n",
       "      <th>rate1</th>\n",
       "      <th>g1</th>\n",
       "      <th>coeff_sum1</th>\n",
       "      <th>impressions</th>\n",
       "      <th>clicks</th>\n",
       "    </tr>\n",
       "  </thead>\n",
       "  <tbody>\n",
       "    <tr>\n",
       "      <th>0</th>\n",
       "      <td>2021-09-27 00:01:30.000000</td>\n",
       "      <td>0</td>\n",
       "      <td>0</td>\n",
       "      <td>5664530014561852622</td>\n",
       "      <td>0</td>\n",
       "      <td>0</td>\n",
       "      <td>0</td>\n",
       "      <td>1240</td>\n",
       "      <td>0.067</td>\n",
       "      <td>0.035016</td>\n",
       "      <td>-7.268846</td>\n",
       "      <td>0</td>\n",
       "      <td>0.010</td>\n",
       "      <td>0.049516</td>\n",
       "      <td>-5.369901</td>\n",
       "      <td>1</td>\n",
       "      <td>1</td>\n",
       "    </tr>\n",
       "    <tr>\n",
       "      <th>1</th>\n",
       "      <td>2021-09-26 22:54:49.000000</td>\n",
       "      <td>1</td>\n",
       "      <td>1</td>\n",
       "      <td>5186611064559013950</td>\n",
       "      <td>0</td>\n",
       "      <td>0</td>\n",
       "      <td>1</td>\n",
       "      <td>1</td>\n",
       "      <td>0.002</td>\n",
       "      <td>0.054298</td>\n",
       "      <td>-2.657477</td>\n",
       "      <td>269</td>\n",
       "      <td>0.004</td>\n",
       "      <td>0.031942</td>\n",
       "      <td>-4.449220</td>\n",
       "      <td>1</td>\n",
       "      <td>1</td>\n",
       "    </tr>\n",
       "    <tr>\n",
       "      <th>2</th>\n",
       "      <td>2021-09-26 23:57:20.000000</td>\n",
       "      <td>2</td>\n",
       "      <td>2</td>\n",
       "      <td>2215519569292448030</td>\n",
       "      <td>3</td>\n",
       "      <td>0</td>\n",
       "      <td>0</td>\n",
       "      <td>2</td>\n",
       "      <td>0.014</td>\n",
       "      <td>0.014096</td>\n",
       "      <td>-3.824875</td>\n",
       "      <td>21</td>\n",
       "      <td>0.014</td>\n",
       "      <td>0.014906</td>\n",
       "      <td>-3.939309</td>\n",
       "      <td>1</td>\n",
       "      <td>1</td>\n",
       "    </tr>\n",
       "    <tr>\n",
       "      <th>3</th>\n",
       "      <td>2021-09-27 00:04:30.000000</td>\n",
       "      <td>3</td>\n",
       "      <td>3</td>\n",
       "      <td>6262169206735077204</td>\n",
       "      <td>0</td>\n",
       "      <td>1</td>\n",
       "      <td>1</td>\n",
       "      <td>3</td>\n",
       "      <td>0.012</td>\n",
       "      <td>0.015232</td>\n",
       "      <td>-3.461357</td>\n",
       "      <td>99</td>\n",
       "      <td>0.006</td>\n",
       "      <td>0.050671</td>\n",
       "      <td>-3.418403</td>\n",
       "      <td>1</td>\n",
       "      <td>1</td>\n",
       "    </tr>\n",
       "    <tr>\n",
       "      <th>4</th>\n",
       "      <td>2021-09-27 00:06:21.000000</td>\n",
       "      <td>4</td>\n",
       "      <td>4</td>\n",
       "      <td>4778985830203613115</td>\n",
       "      <td>0</td>\n",
       "      <td>1</td>\n",
       "      <td>0</td>\n",
       "      <td>4</td>\n",
       "      <td>0.019</td>\n",
       "      <td>0.051265</td>\n",
       "      <td>-4.009026</td>\n",
       "      <td>11464230</td>\n",
       "      <td>6.790</td>\n",
       "      <td>0.032005</td>\n",
       "      <td>-2.828797</td>\n",
       "      <td>1</td>\n",
       "      <td>1</td>\n",
       "    </tr>\n",
       "  </tbody>\n",
       "</table>\n",
       "</div>"
      ],
      "text/plain": [
       "                    date_time  zone_id  banner_id            oaid_hash  \\\n",
       "0  2021-09-27 00:01:30.000000        0          0  5664530014561852622   \n",
       "1  2021-09-26 22:54:49.000000        1          1  5186611064559013950   \n",
       "2  2021-09-26 23:57:20.000000        2          2  2215519569292448030   \n",
       "3  2021-09-27 00:04:30.000000        3          3  6262169206735077204   \n",
       "4  2021-09-27 00:06:21.000000        4          4  4778985830203613115   \n",
       "\n",
       "   campaign_clicks  os_id  country_id  banner_id0  rate0        g0  \\\n",
       "0                0      0           0        1240  0.067  0.035016   \n",
       "1                0      0           1           1  0.002  0.054298   \n",
       "2                3      0           0           2  0.014  0.014096   \n",
       "3                0      1           1           3  0.012  0.015232   \n",
       "4                0      1           0           4  0.019  0.051265   \n",
       "\n",
       "   coeff_sum0  banner_id1  rate1        g1  coeff_sum1  impressions  clicks  \n",
       "0   -7.268846           0  0.010  0.049516   -5.369901            1       1  \n",
       "1   -2.657477         269  0.004  0.031942   -4.449220            1       1  \n",
       "2   -3.824875          21  0.014  0.014906   -3.939309            1       1  \n",
       "3   -3.461357          99  0.006  0.050671   -3.418403            1       1  \n",
       "4   -4.009026    11464230  6.790  0.032005   -2.828797            1       1  "
      ]
     },
     "execution_count": 1,
     "metadata": {},
     "output_type": "execute_result"
    }
   ],
   "source": [
    "import pandas as pd\n",
    "from tqdm import tqdm\n",
    "tqdm.pandas()\n",
    "\n",
    "df = pd.read_csv(\"data.csv\")\n",
    "df.head()"
   ]
  },
  {
   "cell_type": "code",
   "execution_count": 2,
   "metadata": {},
   "outputs": [],
   "source": [
    "df = df.drop(['banner_id0', 'banner_id1', 'rate0', 'rate1', 'g0', 'g1', 'coeff_sum0', 'coeff_sum1'], axis=1)"
   ]
  },
  {
   "cell_type": "code",
   "execution_count": 3,
   "metadata": {},
   "outputs": [],
   "source": [
    "df = df.drop(['impressions'], axis=1)"
   ]
  },
  {
   "cell_type": "code",
   "execution_count": 4,
   "metadata": {},
   "outputs": [
    {
     "name": "stderr",
     "output_type": "stream",
     "text": [
      "100%|██████████| 15821472/15821472 [21:06<00:00, 12496.58it/s]\n"
     ]
    }
   ],
   "source": [
    "df['date_time'] = df['date_time'].progress_apply(pd.to_datetime)"
   ]
  },
  {
   "cell_type": "code",
   "execution_count": 5,
   "metadata": {},
   "outputs": [
    {
     "name": "stderr",
     "output_type": "stream",
     "text": [
      "100%|██████████| 15821472/15821472 [00:58<00:00, 270059.21it/s] \n",
      "100%|██████████| 15821472/15821472 [00:57<00:00, 275200.70it/s] \n"
     ]
    }
   ],
   "source": [
    "df['day'] = df['date_time'].progress_apply(lambda x: x.day)\n",
    "df['hour'] = df['date_time'].progress_apply(lambda x: x.hour)"
   ]
  },
  {
   "cell_type": "code",
   "execution_count": 6,
   "metadata": {},
   "outputs": [
    {
     "name": "stderr",
     "output_type": "stream",
     "text": [
      "100%|██████████| 15821472/15821472 [00:57<00:00, 276315.51it/s] \n",
      "100%|██████████| 15821472/15821472 [00:15<00:00, 1002510.48it/s]\n"
     ]
    }
   ],
   "source": [
    "df['weekday'] = df['date_time'].progress_apply(lambda x: x.weekday())\n",
    "df['is_holiday'] = df['weekday'].progress_apply(lambda x: 1 if x in [5, 6] else 0)"
   ]
  },
  {
   "cell_type": "code",
   "execution_count": 7,
   "metadata": {},
   "outputs": [],
   "source": [
    "first_banner_appearence = df.sort_values(by='date_time').groupby('banner_id').first()['day'].reset_index()\n",
    "first_banner_appearence['days_ago'] = (first_banner_appearence['day'].apply(lambda x: x if x > 25 else x+30) - 32)*(-1)\n",
    "df = df.merge(first_banner_appearence[['banner_id', 'days_ago']], on='banner_id')"
   ]
  },
  {
   "cell_type": "code",
   "execution_count": 8,
   "metadata": {},
   "outputs": [],
   "source": [
    "df = df.drop(['date_time'], axis=1)"
   ]
  },
  {
   "cell_type": "code",
   "execution_count": 9,
   "metadata": {},
   "outputs": [],
   "source": [
    "from sklearn.metrics import log_loss\n",
    "from sklearn.model_selection import train_test_split\n",
    "\n",
    "df_, df_val = df[df['day'] != 2], df[df['day'] == 2]\n",
    "df_train, df_test = df_[:int(df_.shape[0]*0.9)], df_[int(df_.shape[0]*0.9):]\n",
    "X_train = df_train.drop(['clicks'], axis=1)\n",
    "y_train = df_train['clicks'].values\n",
    "X_test = df_test.drop(['clicks'], axis=1)\n",
    "y_test = df_test['clicks'].values\n",
    "X_val = df_val.drop(['clicks'], axis=1)\n",
    "y_val = df_val['clicks'].values"
   ]
  },
  {
   "cell_type": "code",
   "execution_count": null,
   "metadata": {},
   "outputs": [],
   "source": [
    "from collections import defaultdict\n",
    "from sklearn.model_selection import GroupShuffleSplit\n",
    "import math\n",
    "target = \"clicks\"\n",
    "NUMERICAL_FEATURES = [\"campaign_clicks\"]\n",
    "# в общем то все категориальные фичи здесь полезны в качестве филда, даже хеш юзера \n",
    "# ведь таким образом можно ухватить его взаимодействие с баннерами, зонами сайта и тп\n",
    "CATEGORICAL_FEATURES = [\n",
    "    feature for feature in df.columns if feature not in [\"campaign_clicks\", 'clicks']\n",
    "]\n",
    "\n",
    "encoder = {\n",
    "    \"currentcode\": len(\n",
    "        NUMERICAL_FEATURES\n",
    "    ),\n",
    "    \"catdict\": {},  \n",
    "    \"catcodes\": {},\n",
    "}  \n",
    "\n",
    "\n",
    "# https://github.com/wngaw/blog/blob/master/xlearn_example/src/utils.py\n",
    "\n",
    "def convert_to_ffm(path, df, type, target, numerics, categories, encoder):\n",
    "    # Flagging categorical and numerical fields\n",
    "    #print('convert_to_ffm - START')\n",
    "    for x in numerics:\n",
    "        if(x not in encoder['catdict']):\n",
    "            #print(f'UPDATING CATDICT: numeric field - {x}')\n",
    "            encoder['catdict'][x] = 0\n",
    "    for x in categories:\n",
    "        if(x not in encoder['catdict']):\n",
    "            #print(f'UPDATING CATDICT: categorical field - {x}')\n",
    "            encoder['catdict'][x] = 1\n",
    "\n",
    "    nrows = df.shape[0]\n",
    "    with open(path + str(type) + \"_ffm.txt\", \"w\") as text_file:\n",
    "\n",
    "        # Looping over rows to convert each row to libffm format\n",
    "        for n, r in enumerate(range(nrows)):\n",
    "            datastring = \"\"\n",
    "            datarow = df.iloc[r].to_dict()\n",
    "            datastring += str(int(datarow[target]))  # Set Target Variable here\n",
    "\n",
    "            # For numerical fields, we are creating a dummy field here\n",
    "            for i, x in enumerate(encoder['catdict'].keys()):\n",
    "                if(encoder['catdict'][x] == 0):\n",
    "                    # Not adding numerical values that are nan\n",
    "                    if math.isnan(datarow[x]) is not True:\n",
    "                        datastring = datastring + \" \"+str(i)+\":\" + str(i)+\":\" + str(datarow[x])\n",
    "                else:\n",
    "\n",
    "                    # For a new field appearing in a training example\n",
    "                    if(x not in encoder['catcodes']):\n",
    "                        #print(f'UPDATING CATCODES: categorical field - {x}')\n",
    "                        encoder['catcodes'][x] = {}\n",
    "                        encoder['currentcode'] += 1\n",
    "                        #print(f'UPDATING CATCODES: categorical value for field {x} - {datarow[x]}')\n",
    "                        encoder['catcodes'][x][datarow[x]] = encoder['currentcode']  # encoding the feature\n",
    "\n",
    "                    # For already encoded fields\n",
    "                    elif(datarow[x] not in encoder['catcodes'][x]):\n",
    "                        encoder['currentcode'] += 1\n",
    "                        #print(f'UPDATING CATCODES: categorical value for field {x} - {datarow[x]}')\n",
    "                        encoder['catcodes'][x][datarow[x]] = encoder['currentcode']  # encoding the feature\n",
    "\n",
    "                    code = encoder['catcodes'][x][datarow[x]]\n",
    "                    datastring = datastring + \" \"+str(i)+\":\" + str(int(code))+\":1\"\n",
    "\n",
    "            datastring += '\\n'\n",
    "            text_file.write(datastring)\n",
    "\n",
    "    # print('Encoder Summary:')\n",
    "    # print(json.dumps(encoder, indent=4))\n",
    "    return encoder\n",
    "\n",
    "\n",
    "encoder = convert_to_ffm(\n",
    "    \"./data/\",\n",
    "    df_train,\n",
    "    \"train\",\n",
    "    target,\n",
    "    NUMERICAL_FEATURES,\n",
    "    CATEGORICAL_FEATURES,\n",
    "    encoder,\n",
    ")\n",
    "\n",
    "encoder = convert_to_ffm(\n",
    "    \"./data/\",\n",
    "    df_test,\n",
    "    \"test\",\n",
    "    target,\n",
    "    NUMERICAL_FEATURES,\n",
    "    CATEGORICAL_FEATURES,\n",
    "    encoder,\n",
    ")\n",
    "\n",
    "encoder = convert_to_ffm(\n",
    "    \"./data/\",\n",
    "    df_val,\n",
    "    \"val\",\n",
    "    target,\n",
    "    NUMERICAL_FEATURES,\n",
    "    CATEGORICAL_FEATURES,\n",
    "    encoder,\n",
    ")"
   ]
  },
  {
   "cell_type": "code",
   "execution_count": null,
   "metadata": {},
   "outputs": [],
   "source": [
    "import os\n",
    "# почему то логи обучения выводятся только в консоль\n",
    "# так как xlearn не выводит перебираемый параметр - пользуюсь этой функцией\n",
    "def log_to_console(k, reg):\n",
    "    os.write(1, f\"********************************************\\n\".encode())\n",
    "    os.write(1, f\"Current hyperparameters: k={k}, reg_lambda={reg}\\n\".encode())\n",
    "    os.write(1, f\"********************************************\\n\".encode())\n"
   ]
  },
  {
   "cell_type": "code",
   "execution_count": null,
   "metadata": {},
   "outputs": [],
   "source": [
    "import xlearn as xl\n",
    "import numpy as np\n",
    "\n",
    "# на самом деле тут было [5, 10, 20, 50] - но ноут сдался на 50 и кернел упал\n",
    "# но разница в итоге не сильно заметна, слишком грубая оценка при cv xlearn'a - сложно оценить кто действительно лучше\n",
    "for k in [5, 10, 20]:\n",
    "    log_to_console(k, 1e-2)\n",
    "    ffm_model = xl.create_ffm()\n",
    "    ffm_model.setTrain(\"./data/train_ffm.txt\")\n",
    "    ffm_model.setValidate(\"./data/test_ffm.txt\")\n",
    "    param = {'task':'binary', 'lr':0.01, 'lambda':1e-2, 'metric':'auc', 'epoch':20, 'k':k}\n",
    "    ffm_model.cv(param)"
   ]
  },
  {
   "cell_type": "markdown",
   "metadata": {},
   "source": [
    "У модели с размерностью k=10 лучший log-loss и auc"
   ]
  },
  {
   "cell_type": "code",
   "execution_count": 9,
   "metadata": {},
   "outputs": [],
   "source": [
    "import xlearn as xl\n",
    "import numpy as np\n",
    "ffm_model = xl.create_ffm()\n",
    "ffm_model.setTrain(\"./data/train_ffm.txt\")\n",
    "ffm_model.setValidate(\"./data/test_ffm.txt\")\n",
    "param = {'task':'binary', 'lr':0.01, 'lambda':0.01, 'metric':'auc', 'epoch':20, 'k':10}\n",
    "ffm_model.fit(param, './model.out')"
   ]
  },
  {
   "cell_type": "code",
   "execution_count": 12,
   "metadata": {},
   "outputs": [
    {
     "name": "stdout",
     "output_type": "stream",
     "text": [
      "Log-loss by predicting class distribution of train dataset:\n"
     ]
    },
    {
     "data": {
      "text/plain": [
       "0.15403798833827734"
      ]
     },
     "execution_count": 12,
     "metadata": {},
     "output_type": "execute_result"
    }
   ],
   "source": [
    "y_pred_zero_proba = y_train[y_train == 0].shape[0] / y_train.shape[0]\n",
    "y_pred_ones_proba = y_train[y_train == 1].shape[0] / y_train.shape[0]\n",
    "\n",
    "print(\"Log-loss by predicting class distribution of train dataset:\")\n",
    "\n",
    "log_loss(y_val, [[y_pred_zero_proba, y_pred_ones_proba]]*len(y_val))"
   ]
  },
  {
   "cell_type": "code",
   "execution_count": 14,
   "metadata": {},
   "outputs": [
    {
     "data": {
      "text/plain": [
       "0.14517008166636636"
      ]
     },
     "execution_count": 14,
     "metadata": {},
     "output_type": "execute_result"
    }
   ],
   "source": [
    "from sklearn.metrics import log_loss\n",
    "ffm_model.setTest(\"./data/val_ffm.txt\") \n",
    "# преобразуем в вероятности положительного класса\n",
    "ffm_model.setSigmoid()\n",
    "ffm_model.predict(\"./model.out\", \"./test_prediction.txt\")\n",
    "\n",
    "res = np.loadtxt('./test_prediction.txt')\n",
    "log_loss(y_val,  res)"
   ]
  },
  {
   "cell_type": "code",
   "execution_count": null,
   "metadata": {},
   "outputs": [],
   "source": []
  }
 ],
 "metadata": {
  "kernelspec": {
   "display_name": "Python 3",
   "language": "python",
   "name": "python3"
  }
 },
 "nbformat": 4,
 "nbformat_minor": 4
}
